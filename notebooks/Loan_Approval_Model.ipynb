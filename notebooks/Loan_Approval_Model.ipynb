{
 "cells": [
  {
   "cell_type": "markdown",
   "id": "12358907",
   "metadata": {},
   "source": [
    "# Loan Approval ML Model"
   ]
  },
  {
   "cell_type": "code",
   "execution_count": 1,
   "id": "175dece6",
   "metadata": {},
   "outputs": [],
   "source": [
    "import pandas as pd\n",
    "import numpy as np\n",
    "import matplotlib.pyplot as plt\n",
    "import seaborn as sns\n",
    "from sklearn.model_selection import train_test_split"
   ]
  },
  {
   "cell_type": "code",
   "execution_count": 2,
   "id": "cf86c858",
   "metadata": {},
   "outputs": [],
   "source": [
    "loan_df=pd.read_csv(\"loan_approval_dataset.csv\")"
   ]
  },
  {
   "cell_type": "code",
   "execution_count": 3,
   "id": "f1d0a8df",
   "metadata": {
    "scrolled": true
   },
   "outputs": [
    {
     "data": {
      "text/html": [
       "<div>\n",
       "<style scoped>\n",
       "    .dataframe tbody tr th:only-of-type {\n",
       "        vertical-align: middle;\n",
       "    }\n",
       "\n",
       "    .dataframe tbody tr th {\n",
       "        vertical-align: top;\n",
       "    }\n",
       "\n",
       "    .dataframe thead th {\n",
       "        text-align: right;\n",
       "    }\n",
       "</style>\n",
       "<table border=\"1\" class=\"dataframe\">\n",
       "  <thead>\n",
       "    <tr style=\"text-align: right;\">\n",
       "      <th></th>\n",
       "      <th>loan_id</th>\n",
       "      <th>no_of_dependents</th>\n",
       "      <th>education</th>\n",
       "      <th>self_employed</th>\n",
       "      <th>income_annum</th>\n",
       "      <th>loan_amount</th>\n",
       "      <th>loan_term</th>\n",
       "      <th>cibil_score</th>\n",
       "      <th>residential_assets_value</th>\n",
       "      <th>commercial_assets_value</th>\n",
       "      <th>luxury_assets_value</th>\n",
       "      <th>bank_asset_value</th>\n",
       "      <th>loan_status</th>\n",
       "    </tr>\n",
       "  </thead>\n",
       "  <tbody>\n",
       "    <tr>\n",
       "      <th>0</th>\n",
       "      <td>1</td>\n",
       "      <td>2</td>\n",
       "      <td>Graduate</td>\n",
       "      <td>No</td>\n",
       "      <td>9600000</td>\n",
       "      <td>29900000</td>\n",
       "      <td>12</td>\n",
       "      <td>778</td>\n",
       "      <td>2400000</td>\n",
       "      <td>17600000</td>\n",
       "      <td>22700000</td>\n",
       "      <td>8000000</td>\n",
       "      <td>Approved</td>\n",
       "    </tr>\n",
       "    <tr>\n",
       "      <th>1</th>\n",
       "      <td>2</td>\n",
       "      <td>0</td>\n",
       "      <td>Not Graduate</td>\n",
       "      <td>Yes</td>\n",
       "      <td>4100000</td>\n",
       "      <td>12200000</td>\n",
       "      <td>8</td>\n",
       "      <td>417</td>\n",
       "      <td>2700000</td>\n",
       "      <td>2200000</td>\n",
       "      <td>8800000</td>\n",
       "      <td>3300000</td>\n",
       "      <td>Rejected</td>\n",
       "    </tr>\n",
       "    <tr>\n",
       "      <th>2</th>\n",
       "      <td>3</td>\n",
       "      <td>3</td>\n",
       "      <td>Graduate</td>\n",
       "      <td>No</td>\n",
       "      <td>9100000</td>\n",
       "      <td>29700000</td>\n",
       "      <td>20</td>\n",
       "      <td>506</td>\n",
       "      <td>7100000</td>\n",
       "      <td>4500000</td>\n",
       "      <td>33300000</td>\n",
       "      <td>12800000</td>\n",
       "      <td>Rejected</td>\n",
       "    </tr>\n",
       "    <tr>\n",
       "      <th>3</th>\n",
       "      <td>4</td>\n",
       "      <td>3</td>\n",
       "      <td>Graduate</td>\n",
       "      <td>No</td>\n",
       "      <td>8200000</td>\n",
       "      <td>30700000</td>\n",
       "      <td>8</td>\n",
       "      <td>467</td>\n",
       "      <td>18200000</td>\n",
       "      <td>3300000</td>\n",
       "      <td>23300000</td>\n",
       "      <td>7900000</td>\n",
       "      <td>Rejected</td>\n",
       "    </tr>\n",
       "    <tr>\n",
       "      <th>4</th>\n",
       "      <td>5</td>\n",
       "      <td>5</td>\n",
       "      <td>Not Graduate</td>\n",
       "      <td>Yes</td>\n",
       "      <td>9800000</td>\n",
       "      <td>24200000</td>\n",
       "      <td>20</td>\n",
       "      <td>382</td>\n",
       "      <td>12400000</td>\n",
       "      <td>8200000</td>\n",
       "      <td>29400000</td>\n",
       "      <td>5000000</td>\n",
       "      <td>Rejected</td>\n",
       "    </tr>\n",
       "  </tbody>\n",
       "</table>\n",
       "</div>"
      ],
      "text/plain": [
       "   loan_id   no_of_dependents      education  self_employed   income_annum  \\\n",
       "0        1                  2       Graduate             No        9600000   \n",
       "1        2                  0   Not Graduate            Yes        4100000   \n",
       "2        3                  3       Graduate             No        9100000   \n",
       "3        4                  3       Graduate             No        8200000   \n",
       "4        5                  5   Not Graduate            Yes        9800000   \n",
       "\n",
       "    loan_amount   loan_term   cibil_score   residential_assets_value  \\\n",
       "0      29900000          12           778                    2400000   \n",
       "1      12200000           8           417                    2700000   \n",
       "2      29700000          20           506                    7100000   \n",
       "3      30700000           8           467                   18200000   \n",
       "4      24200000          20           382                   12400000   \n",
       "\n",
       "    commercial_assets_value   luxury_assets_value   bank_asset_value  \\\n",
       "0                  17600000              22700000            8000000   \n",
       "1                   2200000               8800000            3300000   \n",
       "2                   4500000              33300000           12800000   \n",
       "3                   3300000              23300000            7900000   \n",
       "4                   8200000              29400000            5000000   \n",
       "\n",
       "   loan_status  \n",
       "0     Approved  \n",
       "1     Rejected  \n",
       "2     Rejected  \n",
       "3     Rejected  \n",
       "4     Rejected  "
      ]
     },
     "execution_count": 3,
     "metadata": {},
     "output_type": "execute_result"
    }
   ],
   "source": [
    "loan_df.head()"
   ]
  },
  {
   "cell_type": "code",
   "execution_count": 4,
   "id": "71291d64",
   "metadata": {},
   "outputs": [
    {
     "data": {
      "text/plain": [
       "Index(['loan_id', ' no_of_dependents', ' education', ' self_employed',\n",
       "       ' income_annum', ' loan_amount', ' loan_term', ' cibil_score',\n",
       "       ' residential_assets_value', ' commercial_assets_value',\n",
       "       ' luxury_assets_value', ' bank_asset_value', ' loan_status'],\n",
       "      dtype='object')"
      ]
     },
     "execution_count": 4,
     "metadata": {},
     "output_type": "execute_result"
    }
   ],
   "source": [
    "loan_df.columns"
   ]
  },
  {
   "cell_type": "markdown",
   "id": "2fbe0f81",
   "metadata": {},
   "source": [
    "# Data Research"
   ]
  },
  {
   "cell_type": "code",
   "execution_count": 5,
   "id": "1de393d4",
   "metadata": {},
   "outputs": [
    {
     "data": {
      "text/plain": [
       "(4269, 13)"
      ]
     },
     "execution_count": 5,
     "metadata": {},
     "output_type": "execute_result"
    }
   ],
   "source": [
    "loan_df.shape"
   ]
  },
  {
   "cell_type": "code",
   "execution_count": 6,
   "id": "59f37560",
   "metadata": {},
   "outputs": [
    {
     "data": {
      "text/plain": [
       "loan_id                      0\n",
       " no_of_dependents            0\n",
       " education                   0\n",
       " self_employed               0\n",
       " income_annum                0\n",
       " loan_amount                 0\n",
       " loan_term                   0\n",
       " cibil_score                 0\n",
       " residential_assets_value    0\n",
       " commercial_assets_value     0\n",
       " luxury_assets_value         0\n",
       " bank_asset_value            0\n",
       " loan_status                 0\n",
       "dtype: int64"
      ]
     },
     "execution_count": 6,
     "metadata": {},
     "output_type": "execute_result"
    }
   ],
   "source": [
    "loan_df.isnull().sum()"
   ]
  },
  {
   "cell_type": "code",
   "execution_count": 7,
   "id": "30473d35",
   "metadata": {},
   "outputs": [
    {
     "data": {
      "text/plain": [
       "<Axes: xlabel=' income_annum'>"
      ]
     },
     "execution_count": 7,
     "metadata": {},
     "output_type": "execute_result"
    },
    {
     "data": {
      "image/png": "[encoded data removed]",
      "text/plain": [
       "<Figure size 1000x600 with 1 Axes>"
      ]
     },
     "metadata": {},
     "output_type": "display_data"
    }
   ],
   "source": [
    "plt.figure(figsize=(10,6))\n",
    "sns.boxplot(x=loan_df[\" income_annum\"])"
   ]
  },
  {
   "cell_type": "code",
   "execution_count": 8,
   "id": "9f3f1b40",
   "metadata": {},
   "outputs": [
    {
     "data": {
      "text/plain": [
       "<Axes: xlabel=' loan_amount'>"
      ]
     },
     "execution_count": 8,
     "metadata": {},
     "output_type": "execute_result"
    },
    {
     "data": {
      "image/png": "[encoded data removed]",
      "text/plain": [
       "<Figure size 1000x600 with 1 Axes>"
      ]
     },
     "metadata": {},
     "output_type": "display_data"
    }
   ],
   "source": [
    "plt.figure(figsize=(10,6))\n",
    "sns.boxplot(x=loan_df[\" loan_amount\"])"
   ]
  },
  {
   "cell_type": "code",
   "execution_count": 9,
   "id": "430f2d23",
   "metadata": {},
   "outputs": [
    {
     "data": {
      "text/plain": [
       " education\n",
       " Not Graduate    808\n",
       " Graduate        805\n",
       "Name: count, dtype: int64"
      ]
     },
     "execution_count": 9,
     "metadata": {},
     "output_type": "execute_result"
    }
   ],
   "source": [
    "loan_df[loan_df[\" loan_status\"]==\" Rejected\"][' education'].value_counts()"
   ]
  },
  {
   "cell_type": "code",
   "execution_count": 10,
   "id": "5c94ac68",
   "metadata": {},
   "outputs": [
    {
     "data": {
      "text/plain": [
       "2656"
      ]
     },
     "execution_count": 10,
     "metadata": {},
     "output_type": "execute_result"
    }
   ],
   "source": [
    "no_accepted=4269-1613\n",
    "no_accepted"
   ]
  },
  {
   "cell_type": "code",
   "execution_count": 11,
   "id": "e28b5580",
   "metadata": {},
   "outputs": [
    {
     "data": {
      "text/plain": [
       "(2656, 13)"
      ]
     },
     "execution_count": 11,
     "metadata": {},
     "output_type": "execute_result"
    }
   ],
   "source": [
    "loan_df[loan_df[\" loan_status\"]==\" Approved\"].shape"
   ]
  },
  {
   "cell_type": "markdown",
   "id": "d3dc6673",
   "metadata": {},
   "source": [
    "#### Approved Data - 2656\n",
    "#### Rejected Data - 1613"
   ]
  },
  {
   "cell_type": "code",
   "execution_count": 12,
   "id": "b48f2e42",
   "metadata": {},
   "outputs": [
    {
     "data": {
      "text/html": [
       "<div>\n",
       "<style scoped>\n",
       "    .dataframe tbody tr th:only-of-type {\n",
       "        vertical-align: middle;\n",
       "    }\n",
       "\n",
       "    .dataframe tbody tr th {\n",
       "        vertical-align: top;\n",
       "    }\n",
       "\n",
       "    .dataframe thead th {\n",
       "        text-align: right;\n",
       "    }\n",
       "</style>\n",
       "<table border=\"1\" class=\"dataframe\">\n",
       "  <thead>\n",
       "    <tr style=\"text-align: right;\">\n",
       "      <th></th>\n",
       "      <th>loan_id</th>\n",
       "      <th>no_of_dependents</th>\n",
       "      <th>education</th>\n",
       "      <th>self_employed</th>\n",
       "      <th>income_annum</th>\n",
       "      <th>loan_amount</th>\n",
       "      <th>loan_term</th>\n",
       "      <th>cibil_score</th>\n",
       "      <th>residential_assets_value</th>\n",
       "      <th>commercial_assets_value</th>\n",
       "      <th>luxury_assets_value</th>\n",
       "      <th>bank_asset_value</th>\n",
       "      <th>loan_status</th>\n",
       "    </tr>\n",
       "  </thead>\n",
       "  <tbody>\n",
       "    <tr>\n",
       "      <th>295</th>\n",
       "      <td>296</td>\n",
       "      <td>1</td>\n",
       "      <td>Not Graduate</td>\n",
       "      <td>Yes</td>\n",
       "      <td>300000</td>\n",
       "      <td>1000000</td>\n",
       "      <td>10</td>\n",
       "      <td>431</td>\n",
       "      <td>400000</td>\n",
       "      <td>500000</td>\n",
       "      <td>900000</td>\n",
       "      <td>100000</td>\n",
       "      <td>Rejected</td>\n",
       "    </tr>\n",
       "    <tr>\n",
       "      <th>404</th>\n",
       "      <td>405</td>\n",
       "      <td>3</td>\n",
       "      <td>Graduate</td>\n",
       "      <td>No</td>\n",
       "      <td>500000</td>\n",
       "      <td>1000000</td>\n",
       "      <td>20</td>\n",
       "      <td>501</td>\n",
       "      <td>800000</td>\n",
       "      <td>800000</td>\n",
       "      <td>900000</td>\n",
       "      <td>200000</td>\n",
       "      <td>Rejected</td>\n",
       "    </tr>\n",
       "    <tr>\n",
       "      <th>531</th>\n",
       "      <td>532</td>\n",
       "      <td>4</td>\n",
       "      <td>Not Graduate</td>\n",
       "      <td>Yes</td>\n",
       "      <td>300000</td>\n",
       "      <td>1000000</td>\n",
       "      <td>20</td>\n",
       "      <td>655</td>\n",
       "      <td>0</td>\n",
       "      <td>100000</td>\n",
       "      <td>1100000</td>\n",
       "      <td>400000</td>\n",
       "      <td>Approved</td>\n",
       "    </tr>\n",
       "    <tr>\n",
       "      <th>1417</th>\n",
       "      <td>1418</td>\n",
       "      <td>4</td>\n",
       "      <td>Not Graduate</td>\n",
       "      <td>No</td>\n",
       "      <td>400000</td>\n",
       "      <td>1000000</td>\n",
       "      <td>10</td>\n",
       "      <td>447</td>\n",
       "      <td>0</td>\n",
       "      <td>300000</td>\n",
       "      <td>900000</td>\n",
       "      <td>300000</td>\n",
       "      <td>Rejected</td>\n",
       "    </tr>\n",
       "    <tr>\n",
       "      <th>1454</th>\n",
       "      <td>1455</td>\n",
       "      <td>3</td>\n",
       "      <td>Not Graduate</td>\n",
       "      <td>Yes</td>\n",
       "      <td>300000</td>\n",
       "      <td>1000000</td>\n",
       "      <td>12</td>\n",
       "      <td>469</td>\n",
       "      <td>600000</td>\n",
       "      <td>400000</td>\n",
       "      <td>700000</td>\n",
       "      <td>300000</td>\n",
       "      <td>Rejected</td>\n",
       "    </tr>\n",
       "    <tr>\n",
       "      <th>1558</th>\n",
       "      <td>1559</td>\n",
       "      <td>4</td>\n",
       "      <td>Not Graduate</td>\n",
       "      <td>No</td>\n",
       "      <td>300000</td>\n",
       "      <td>1000000</td>\n",
       "      <td>10</td>\n",
       "      <td>819</td>\n",
       "      <td>700000</td>\n",
       "      <td>300000</td>\n",
       "      <td>900000</td>\n",
       "      <td>200000</td>\n",
       "      <td>Approved</td>\n",
       "    </tr>\n",
       "    <tr>\n",
       "      <th>1982</th>\n",
       "      <td>1983</td>\n",
       "      <td>2</td>\n",
       "      <td>Not Graduate</td>\n",
       "      <td>No</td>\n",
       "      <td>400000</td>\n",
       "      <td>1000000</td>\n",
       "      <td>6</td>\n",
       "      <td>425</td>\n",
       "      <td>800000</td>\n",
       "      <td>300000</td>\n",
       "      <td>800000</td>\n",
       "      <td>200000</td>\n",
       "      <td>Rejected</td>\n",
       "    </tr>\n",
       "    <tr>\n",
       "      <th>2208</th>\n",
       "      <td>2209</td>\n",
       "      <td>1</td>\n",
       "      <td>Graduate</td>\n",
       "      <td>Yes</td>\n",
       "      <td>300000</td>\n",
       "      <td>1000000</td>\n",
       "      <td>14</td>\n",
       "      <td>324</td>\n",
       "      <td>100000</td>\n",
       "      <td>100000</td>\n",
       "      <td>1100000</td>\n",
       "      <td>100000</td>\n",
       "      <td>Rejected</td>\n",
       "    </tr>\n",
       "    <tr>\n",
       "      <th>2370</th>\n",
       "      <td>2371</td>\n",
       "      <td>3</td>\n",
       "      <td>Graduate</td>\n",
       "      <td>Yes</td>\n",
       "      <td>300000</td>\n",
       "      <td>1000000</td>\n",
       "      <td>8</td>\n",
       "      <td>641</td>\n",
       "      <td>700000</td>\n",
       "      <td>200000</td>\n",
       "      <td>1100000</td>\n",
       "      <td>200000</td>\n",
       "      <td>Approved</td>\n",
       "    </tr>\n",
       "    <tr>\n",
       "      <th>4114</th>\n",
       "      <td>4115</td>\n",
       "      <td>4</td>\n",
       "      <td>Graduate</td>\n",
       "      <td>No</td>\n",
       "      <td>400000</td>\n",
       "      <td>1000000</td>\n",
       "      <td>20</td>\n",
       "      <td>692</td>\n",
       "      <td>500000</td>\n",
       "      <td>400000</td>\n",
       "      <td>1600000</td>\n",
       "      <td>200000</td>\n",
       "      <td>Approved</td>\n",
       "    </tr>\n",
       "  </tbody>\n",
       "</table>\n",
       "</div>"
      ],
      "text/plain": [
       "      loan_id   no_of_dependents      education  self_employed   income_annum  \\\n",
       "295       296                  1   Not Graduate            Yes         300000   \n",
       "404       405                  3       Graduate             No         500000   \n",
       "531       532                  4   Not Graduate            Yes         300000   \n",
       "1417     1418                  4   Not Graduate             No         400000   \n",
       "1454     1455                  3   Not Graduate            Yes         300000   \n",
       "1558     1559                  4   Not Graduate             No         300000   \n",
       "1982     1983                  2   Not Graduate             No         400000   \n",
       "2208     2209                  1       Graduate            Yes         300000   \n",
       "2370     2371                  3       Graduate            Yes         300000   \n",
       "4114     4115                  4       Graduate             No         400000   \n",
       "\n",
       "       loan_amount   loan_term   cibil_score   residential_assets_value  \\\n",
       "295        1000000          10           431                     400000   \n",
       "404        1000000          20           501                     800000   \n",
       "531        1000000          20           655                          0   \n",
       "1417       1000000          10           447                          0   \n",
       "1454       1000000          12           469                     600000   \n",
       "1558       1000000          10           819                     700000   \n",
       "1982       1000000           6           425                     800000   \n",
       "2208       1000000          14           324                     100000   \n",
       "2370       1000000           8           641                     700000   \n",
       "4114       1000000          20           692                     500000   \n",
       "\n",
       "       commercial_assets_value   luxury_assets_value   bank_asset_value  \\\n",
       "295                     500000                900000             100000   \n",
       "404                     800000                900000             200000   \n",
       "531                     100000               1100000             400000   \n",
       "1417                    300000                900000             300000   \n",
       "1454                    400000                700000             300000   \n",
       "1558                    300000                900000             200000   \n",
       "1982                    300000                800000             200000   \n",
       "2208                    100000               1100000             100000   \n",
       "2370                    200000               1100000             200000   \n",
       "4114                    400000               1600000             200000   \n",
       "\n",
       "      loan_status  \n",
       "295      Rejected  \n",
       "404      Rejected  \n",
       "531      Approved  \n",
       "1417     Rejected  \n",
       "1454     Rejected  \n",
       "1558     Approved  \n",
       "1982     Rejected  \n",
       "2208     Rejected  \n",
       "2370     Approved  \n",
       "4114     Approved  "
      ]
     },
     "execution_count": 12,
     "metadata": {},
     "output_type": "execute_result"
    }
   ],
   "source": [
    "loan_df[loan_df[\" loan_amount\"]==1000000]"
   ]
  },
  {
   "cell_type": "code",
   "execution_count": 13,
   "id": "79c2990b",
   "metadata": {},
   "outputs": [],
   "source": [
    "loan_df.drop(\"loan_id\",inplace=True,axis=1)"
   ]
  },
  {
   "cell_type": "code",
   "execution_count": 14,
   "id": "8c911c0d",
   "metadata": {},
   "outputs": [
    {
     "data": {
      "text/html": [
       "<div>\n",
       "<style scoped>\n",
       "    .dataframe tbody tr th:only-of-type {\n",
       "        vertical-align: middle;\n",
       "    }\n",
       "\n",
       "    .dataframe tbody tr th {\n",
       "        vertical-align: top;\n",
       "    }\n",
       "\n",
       "    .dataframe thead th {\n",
       "        text-align: right;\n",
       "    }\n",
       "</style>\n",
       "<table border=\"1\" class=\"dataframe\">\n",
       "  <thead>\n",
       "    <tr style=\"text-align: right;\">\n",
       "      <th></th>\n",
       "      <th>no_of_dependents</th>\n",
       "      <th>education</th>\n",
       "      <th>self_employed</th>\n",
       "      <th>income_annum</th>\n",
       "      <th>loan_amount</th>\n",
       "      <th>loan_term</th>\n",
       "      <th>cibil_score</th>\n",
       "      <th>residential_assets_value</th>\n",
       "      <th>commercial_assets_value</th>\n",
       "      <th>luxury_assets_value</th>\n",
       "      <th>bank_asset_value</th>\n",
       "      <th>loan_status</th>\n",
       "    </tr>\n",
       "  </thead>\n",
       "  <tbody>\n",
       "    <tr>\n",
       "      <th>0</th>\n",
       "      <td>2</td>\n",
       "      <td>Graduate</td>\n",
       "      <td>No</td>\n",
       "      <td>9600000</td>\n",
       "      <td>29900000</td>\n",
       "      <td>12</td>\n",
       "      <td>778</td>\n",
       "      <td>2400000</td>\n",
       "      <td>17600000</td>\n",
       "      <td>22700000</td>\n",
       "      <td>8000000</td>\n",
       "      <td>Approved</td>\n",
       "    </tr>\n",
       "    <tr>\n",
       "      <th>1</th>\n",
       "      <td>0</td>\n",
       "      <td>Not Graduate</td>\n",
       "      <td>Yes</td>\n",
       "      <td>4100000</td>\n",
       "      <td>12200000</td>\n",
       "      <td>8</td>\n",
       "      <td>417</td>\n",
       "      <td>2700000</td>\n",
       "      <td>2200000</td>\n",
       "      <td>8800000</td>\n",
       "      <td>3300000</td>\n",
       "      <td>Rejected</td>\n",
       "    </tr>\n",
       "    <tr>\n",
       "      <th>2</th>\n",
       "      <td>3</td>\n",
       "      <td>Graduate</td>\n",
       "      <td>No</td>\n",
       "      <td>9100000</td>\n",
       "      <td>29700000</td>\n",
       "      <td>20</td>\n",
       "      <td>506</td>\n",
       "      <td>7100000</td>\n",
       "      <td>4500000</td>\n",
       "      <td>33300000</td>\n",
       "      <td>12800000</td>\n",
       "      <td>Rejected</td>\n",
       "    </tr>\n",
       "    <tr>\n",
       "      <th>3</th>\n",
       "      <td>3</td>\n",
       "      <td>Graduate</td>\n",
       "      <td>No</td>\n",
       "      <td>8200000</td>\n",
       "      <td>30700000</td>\n",
       "      <td>8</td>\n",
       "      <td>467</td>\n",
       "      <td>18200000</td>\n",
       "      <td>3300000</td>\n",
       "      <td>23300000</td>\n",
       "      <td>7900000</td>\n",
       "      <td>Rejected</td>\n",
       "    </tr>\n",
       "    <tr>\n",
       "      <th>4</th>\n",
       "      <td>5</td>\n",
       "      <td>Not Graduate</td>\n",
       "      <td>Yes</td>\n",
       "      <td>9800000</td>\n",
       "      <td>24200000</td>\n",
       "      <td>20</td>\n",
       "      <td>382</td>\n",
       "      <td>12400000</td>\n",
       "      <td>8200000</td>\n",
       "      <td>29400000</td>\n",
       "      <td>5000000</td>\n",
       "      <td>Rejected</td>\n",
       "    </tr>\n",
       "  </tbody>\n",
       "</table>\n",
       "</div>"
      ],
      "text/plain": [
       "    no_of_dependents      education  self_employed   income_annum  \\\n",
       "0                  2       Graduate             No        9600000   \n",
       "1                  0   Not Graduate            Yes        4100000   \n",
       "2                  3       Graduate             No        9100000   \n",
       "3                  3       Graduate             No        8200000   \n",
       "4                  5   Not Graduate            Yes        9800000   \n",
       "\n",
       "    loan_amount   loan_term   cibil_score   residential_assets_value  \\\n",
       "0      29900000          12           778                    2400000   \n",
       "1      12200000           8           417                    2700000   \n",
       "2      29700000          20           506                    7100000   \n",
       "3      30700000           8           467                   18200000   \n",
       "4      24200000          20           382                   12400000   \n",
       "\n",
       "    commercial_assets_value   luxury_assets_value   bank_asset_value  \\\n",
       "0                  17600000              22700000            8000000   \n",
       "1                   2200000               8800000            3300000   \n",
       "2                   4500000              33300000           12800000   \n",
       "3                   3300000              23300000            7900000   \n",
       "4                   8200000              29400000            5000000   \n",
       "\n",
       "   loan_status  \n",
       "0     Approved  \n",
       "1     Rejected  \n",
       "2     Rejected  \n",
       "3     Rejected  \n",
       "4     Rejected  "
      ]
     },
     "execution_count": 14,
     "metadata": {},
     "output_type": "execute_result"
    }
   ],
   "source": [
    "loan_df.head()"
   ]
  },
  {
   "cell_type": "markdown",
   "id": "19f9fe81",
   "metadata": {},
   "source": [
    "###### education Graduate - 1, Not Graduate 0\n",
    "###### Self Employed ->  yes -1, no - 0\n",
    "###### loan_status -> approved - 1 , rejected - 0"
   ]
  },
  {
   "cell_type": "code",
   "execution_count": 15,
   "id": "aa711a56",
   "metadata": {},
   "outputs": [],
   "source": [
    "loan_df[' education'] =loan_df[' education'].map({' Graduate': 1, ' Not Graduate': 0})\n",
    "loan_df[' self_employed'] =loan_df[' self_employed'].map({' Yes': 1, ' No': 0})\n",
    "loan_df[' loan_status'] =loan_df[' loan_status'].map({' Approved': 1, ' Rejected': 0})"
   ]
  },
  {
   "cell_type": "code",
   "execution_count": 16,
   "id": "036ccea9",
   "metadata": {},
   "outputs": [
    {
     "data": {
      "text/html": [
       "<div>\n",
       "<style scoped>\n",
       "    .dataframe tbody tr th:only-of-type {\n",
       "        vertical-align: middle;\n",
       "    }\n",
       "\n",
       "    .dataframe tbody tr th {\n",
       "        vertical-align: top;\n",
       "    }\n",
       "\n",
       "    .dataframe thead th {\n",
       "        text-align: right;\n",
       "    }\n",
       "</style>\n",
       "<table border=\"1\" class=\"dataframe\">\n",
       "  <thead>\n",
       "    <tr style=\"text-align: right;\">\n",
       "      <th></th>\n",
       "      <th>no_of_dependents</th>\n",
       "      <th>education</th>\n",
       "      <th>self_employed</th>\n",
       "      <th>income_annum</th>\n",
       "      <th>loan_amount</th>\n",
       "      <th>loan_term</th>\n",
       "      <th>cibil_score</th>\n",
       "      <th>residential_assets_value</th>\n",
       "      <th>commercial_assets_value</th>\n",
       "      <th>luxury_assets_value</th>\n",
       "      <th>bank_asset_value</th>\n",
       "      <th>loan_status</th>\n",
       "    </tr>\n",
       "  </thead>\n",
       "  <tbody>\n",
       "    <tr>\n",
       "      <th>0</th>\n",
       "      <td>2</td>\n",
       "      <td>1</td>\n",
       "      <td>0</td>\n",
       "      <td>9600000</td>\n",
       "      <td>29900000</td>\n",
       "      <td>12</td>\n",
       "      <td>778</td>\n",
       "      <td>2400000</td>\n",
       "      <td>17600000</td>\n",
       "      <td>22700000</td>\n",
       "      <td>8000000</td>\n",
       "      <td>1</td>\n",
       "    </tr>\n",
       "    <tr>\n",
       "      <th>1</th>\n",
       "      <td>0</td>\n",
       "      <td>0</td>\n",
       "      <td>1</td>\n",
       "      <td>4100000</td>\n",
       "      <td>12200000</td>\n",
       "      <td>8</td>\n",
       "      <td>417</td>\n",
       "      <td>2700000</td>\n",
       "      <td>2200000</td>\n",
       "      <td>8800000</td>\n",
       "      <td>3300000</td>\n",
       "      <td>0</td>\n",
       "    </tr>\n",
       "    <tr>\n",
       "      <th>2</th>\n",
       "      <td>3</td>\n",
       "      <td>1</td>\n",
       "      <td>0</td>\n",
       "      <td>9100000</td>\n",
       "      <td>29700000</td>\n",
       "      <td>20</td>\n",
       "      <td>506</td>\n",
       "      <td>7100000</td>\n",
       "      <td>4500000</td>\n",
       "      <td>33300000</td>\n",
       "      <td>12800000</td>\n",
       "      <td>0</td>\n",
       "    </tr>\n",
       "    <tr>\n",
       "      <th>3</th>\n",
       "      <td>3</td>\n",
       "      <td>1</td>\n",
       "      <td>0</td>\n",
       "      <td>8200000</td>\n",
       "      <td>30700000</td>\n",
       "      <td>8</td>\n",
       "      <td>467</td>\n",
       "      <td>18200000</td>\n",
       "      <td>3300000</td>\n",
       "      <td>23300000</td>\n",
       "      <td>7900000</td>\n",
       "      <td>0</td>\n",
       "    </tr>\n",
       "    <tr>\n",
       "      <th>4</th>\n",
       "      <td>5</td>\n",
       "      <td>0</td>\n",
       "      <td>1</td>\n",
       "      <td>9800000</td>\n",
       "      <td>24200000</td>\n",
       "      <td>20</td>\n",
       "      <td>382</td>\n",
       "      <td>12400000</td>\n",
       "      <td>8200000</td>\n",
       "      <td>29400000</td>\n",
       "      <td>5000000</td>\n",
       "      <td>0</td>\n",
       "    </tr>\n",
       "  </tbody>\n",
       "</table>\n",
       "</div>"
      ],
      "text/plain": [
       "    no_of_dependents   education   self_employed   income_annum   loan_amount  \\\n",
       "0                  2           1               0        9600000      29900000   \n",
       "1                  0           0               1        4100000      12200000   \n",
       "2                  3           1               0        9100000      29700000   \n",
       "3                  3           1               0        8200000      30700000   \n",
       "4                  5           0               1        9800000      24200000   \n",
       "\n",
       "    loan_term   cibil_score   residential_assets_value  \\\n",
       "0          12           778                    2400000   \n",
       "1           8           417                    2700000   \n",
       "2          20           506                    7100000   \n",
       "3           8           467                   18200000   \n",
       "4          20           382                   12400000   \n",
       "\n",
       "    commercial_assets_value   luxury_assets_value   bank_asset_value  \\\n",
       "0                  17600000              22700000            8000000   \n",
       "1                   2200000               8800000            3300000   \n",
       "2                   4500000              33300000           12800000   \n",
       "3                   3300000              23300000            7900000   \n",
       "4                   8200000              29400000            5000000   \n",
       "\n",
       "    loan_status  \n",
       "0             1  \n",
       "1             0  \n",
       "2             0  \n",
       "3             0  \n",
       "4             0  "
      ]
     },
     "execution_count": 16,
     "metadata": {},
     "output_type": "execute_result"
    }
   ],
   "source": [
    "loan_df.head()"
   ]
  },
  {
   "cell_type": "code",
   "execution_count": 17,
   "id": "f7d3a94a",
   "metadata": {},
   "outputs": [],
   "source": [
    "feature=loan_df.drop([\" loan_status\"],axis=1) "
   ]
  },
  {
   "cell_type": "code",
   "execution_count": 18,
   "id": "eff6d2fb",
   "metadata": {},
   "outputs": [],
   "source": [
    "target=loan_df.iloc[:,-1:]"
   ]
  },
  {
   "cell_type": "code",
   "execution_count": 19,
   "id": "bf2206b1",
   "metadata": {},
   "outputs": [
    {
     "data": {
      "text/html": [
       "<div>\n",
       "<style scoped>\n",
       "    .dataframe tbody tr th:only-of-type {\n",
       "        vertical-align: middle;\n",
       "    }\n",
       "\n",
       "    .dataframe tbody tr th {\n",
       "        vertical-align: top;\n",
       "    }\n",
       "\n",
       "    .dataframe thead th {\n",
       "        text-align: right;\n",
       "    }\n",
       "</style>\n",
       "<table border=\"1\" class=\"dataframe\">\n",
       "  <thead>\n",
       "    <tr style=\"text-align: right;\">\n",
       "      <th></th>\n",
       "      <th>loan_status</th>\n",
       "    </tr>\n",
       "  </thead>\n",
       "  <tbody>\n",
       "    <tr>\n",
       "      <th>0</th>\n",
       "      <td>1</td>\n",
       "    </tr>\n",
       "    <tr>\n",
       "      <th>1</th>\n",
       "      <td>0</td>\n",
       "    </tr>\n",
       "    <tr>\n",
       "      <th>2</th>\n",
       "      <td>0</td>\n",
       "    </tr>\n",
       "    <tr>\n",
       "      <th>3</th>\n",
       "      <td>0</td>\n",
       "    </tr>\n",
       "    <tr>\n",
       "      <th>4</th>\n",
       "      <td>0</td>\n",
       "    </tr>\n",
       "  </tbody>\n",
       "</table>\n",
       "</div>"
      ],
      "text/plain": [
       "    loan_status\n",
       "0             1\n",
       "1             0\n",
       "2             0\n",
       "3             0\n",
       "4             0"
      ]
     },
     "execution_count": 19,
     "metadata": {},
     "output_type": "execute_result"
    }
   ],
   "source": [
    "target.head()"
   ]
  },
  {
   "cell_type": "code",
   "execution_count": 20,
   "id": "9af08158",
   "metadata": {},
   "outputs": [
    {
     "data": {
      "text/html": [
       "<div>\n",
       "<style scoped>\n",
       "    .dataframe tbody tr th:only-of-type {\n",
       "        vertical-align: middle;\n",
       "    }\n",
       "\n",
       "    .dataframe tbody tr th {\n",
       "        vertical-align: top;\n",
       "    }\n",
       "\n",
       "    .dataframe thead th {\n",
       "        text-align: right;\n",
       "    }\n",
       "</style>\n",
       "<table border=\"1\" class=\"dataframe\">\n",
       "  <thead>\n",
       "    <tr style=\"text-align: right;\">\n",
       "      <th></th>\n",
       "      <th>no_of_dependents</th>\n",
       "      <th>education</th>\n",
       "      <th>self_employed</th>\n",
       "      <th>income_annum</th>\n",
       "      <th>loan_amount</th>\n",
       "      <th>loan_term</th>\n",
       "      <th>cibil_score</th>\n",
       "      <th>residential_assets_value</th>\n",
       "      <th>commercial_assets_value</th>\n",
       "      <th>luxury_assets_value</th>\n",
       "      <th>bank_asset_value</th>\n",
       "    </tr>\n",
       "  </thead>\n",
       "  <tbody>\n",
       "    <tr>\n",
       "      <th>0</th>\n",
       "      <td>2</td>\n",
       "      <td>1</td>\n",
       "      <td>0</td>\n",
       "      <td>9600000</td>\n",
       "      <td>29900000</td>\n",
       "      <td>12</td>\n",
       "      <td>778</td>\n",
       "      <td>2400000</td>\n",
       "      <td>17600000</td>\n",
       "      <td>22700000</td>\n",
       "      <td>8000000</td>\n",
       "    </tr>\n",
       "    <tr>\n",
       "      <th>1</th>\n",
       "      <td>0</td>\n",
       "      <td>0</td>\n",
       "      <td>1</td>\n",
       "      <td>4100000</td>\n",
       "      <td>12200000</td>\n",
       "      <td>8</td>\n",
       "      <td>417</td>\n",
       "      <td>2700000</td>\n",
       "      <td>2200000</td>\n",
       "      <td>8800000</td>\n",
       "      <td>3300000</td>\n",
       "    </tr>\n",
       "    <tr>\n",
       "      <th>2</th>\n",
       "      <td>3</td>\n",
       "      <td>1</td>\n",
       "      <td>0</td>\n",
       "      <td>9100000</td>\n",
       "      <td>29700000</td>\n",
       "      <td>20</td>\n",
       "      <td>506</td>\n",
       "      <td>7100000</td>\n",
       "      <td>4500000</td>\n",
       "      <td>33300000</td>\n",
       "      <td>12800000</td>\n",
       "    </tr>\n",
       "    <tr>\n",
       "      <th>3</th>\n",
       "      <td>3</td>\n",
       "      <td>1</td>\n",
       "      <td>0</td>\n",
       "      <td>8200000</td>\n",
       "      <td>30700000</td>\n",
       "      <td>8</td>\n",
       "      <td>467</td>\n",
       "      <td>18200000</td>\n",
       "      <td>3300000</td>\n",
       "      <td>23300000</td>\n",
       "      <td>7900000</td>\n",
       "    </tr>\n",
       "    <tr>\n",
       "      <th>4</th>\n",
       "      <td>5</td>\n",
       "      <td>0</td>\n",
       "      <td>1</td>\n",
       "      <td>9800000</td>\n",
       "      <td>24200000</td>\n",
       "      <td>20</td>\n",
       "      <td>382</td>\n",
       "      <td>12400000</td>\n",
       "      <td>8200000</td>\n",
       "      <td>29400000</td>\n",
       "      <td>5000000</td>\n",
       "    </tr>\n",
       "  </tbody>\n",
       "</table>\n",
       "</div>"
      ],
      "text/plain": [
       "    no_of_dependents   education   self_employed   income_annum   loan_amount  \\\n",
       "0                  2           1               0        9600000      29900000   \n",
       "1                  0           0               1        4100000      12200000   \n",
       "2                  3           1               0        9100000      29700000   \n",
       "3                  3           1               0        8200000      30700000   \n",
       "4                  5           0               1        9800000      24200000   \n",
       "\n",
       "    loan_term   cibil_score   residential_assets_value  \\\n",
       "0          12           778                    2400000   \n",
       "1           8           417                    2700000   \n",
       "2          20           506                    7100000   \n",
       "3           8           467                   18200000   \n",
       "4          20           382                   12400000   \n",
       "\n",
       "    commercial_assets_value   luxury_assets_value   bank_asset_value  \n",
       "0                  17600000              22700000            8000000  \n",
       "1                   2200000               8800000            3300000  \n",
       "2                   4500000              33300000           12800000  \n",
       "3                   3300000              23300000            7900000  \n",
       "4                   8200000              29400000            5000000  "
      ]
     },
     "execution_count": 20,
     "metadata": {},
     "output_type": "execute_result"
    }
   ],
   "source": [
    "feature.head()"
   ]
  },
  {
   "cell_type": "code",
   "execution_count": 21,
   "id": "fa3655b9",
   "metadata": {},
   "outputs": [],
   "source": [
    "X_train,X_test,y_train,y_test=train_test_split(feature,target,test_size=0.3,random_state=42)"
   ]
  },
  {
   "cell_type": "code",
   "execution_count": 22,
   "id": "a38c3158",
   "metadata": {},
   "outputs": [
    {
     "data": {
      "text/html": [
       "<div>\n",
       "<style scoped>\n",
       "    .dataframe tbody tr th:only-of-type {\n",
       "        vertical-align: middle;\n",
       "    }\n",
       "\n",
       "    .dataframe tbody tr th {\n",
       "        vertical-align: top;\n",
       "    }\n",
       "\n",
       "    .dataframe thead th {\n",
       "        text-align: right;\n",
       "    }\n",
       "</style>\n",
       "<table border=\"1\" class=\"dataframe\">\n",
       "  <thead>\n",
       "    <tr style=\"text-align: right;\">\n",
       "      <th></th>\n",
       "      <th>no_of_dependents</th>\n",
       "      <th>education</th>\n",
       "      <th>self_employed</th>\n",
       "      <th>income_annum</th>\n",
       "      <th>loan_amount</th>\n",
       "      <th>loan_term</th>\n",
       "      <th>cibil_score</th>\n",
       "      <th>residential_assets_value</th>\n",
       "      <th>commercial_assets_value</th>\n",
       "      <th>luxury_assets_value</th>\n",
       "      <th>bank_asset_value</th>\n",
       "    </tr>\n",
       "  </thead>\n",
       "  <tbody>\n",
       "    <tr>\n",
       "      <th>3404</th>\n",
       "      <td>4</td>\n",
       "      <td>0</td>\n",
       "      <td>0</td>\n",
       "      <td>2800000</td>\n",
       "      <td>8300000</td>\n",
       "      <td>14</td>\n",
       "      <td>381</td>\n",
       "      <td>3200000</td>\n",
       "      <td>1100000</td>\n",
       "      <td>9100000</td>\n",
       "      <td>1500000</td>\n",
       "    </tr>\n",
       "    <tr>\n",
       "      <th>781</th>\n",
       "      <td>3</td>\n",
       "      <td>0</td>\n",
       "      <td>1</td>\n",
       "      <td>9900000</td>\n",
       "      <td>20400000</td>\n",
       "      <td>4</td>\n",
       "      <td>865</td>\n",
       "      <td>26300000</td>\n",
       "      <td>3600000</td>\n",
       "      <td>36500000</td>\n",
       "      <td>12800000</td>\n",
       "    </tr>\n",
       "    <tr>\n",
       "      <th>3002</th>\n",
       "      <td>4</td>\n",
       "      <td>1</td>\n",
       "      <td>1</td>\n",
       "      <td>3500000</td>\n",
       "      <td>10700000</td>\n",
       "      <td>8</td>\n",
       "      <td>883</td>\n",
       "      <td>200000</td>\n",
       "      <td>2300000</td>\n",
       "      <td>8400000</td>\n",
       "      <td>2000000</td>\n",
       "    </tr>\n",
       "    <tr>\n",
       "      <th>4047</th>\n",
       "      <td>3</td>\n",
       "      <td>0</td>\n",
       "      <td>0</td>\n",
       "      <td>6400000</td>\n",
       "      <td>23000000</td>\n",
       "      <td>8</td>\n",
       "      <td>520</td>\n",
       "      <td>12100000</td>\n",
       "      <td>11400000</td>\n",
       "      <td>16000000</td>\n",
       "      <td>3800000</td>\n",
       "    </tr>\n",
       "    <tr>\n",
       "      <th>3391</th>\n",
       "      <td>2</td>\n",
       "      <td>1</td>\n",
       "      <td>1</td>\n",
       "      <td>3300000</td>\n",
       "      <td>6700000</td>\n",
       "      <td>8</td>\n",
       "      <td>845</td>\n",
       "      <td>1300000</td>\n",
       "      <td>4600000</td>\n",
       "      <td>12300000</td>\n",
       "      <td>3200000</td>\n",
       "    </tr>\n",
       "  </tbody>\n",
       "</table>\n",
       "</div>"
      ],
      "text/plain": [
       "       no_of_dependents   education   self_employed   income_annum  \\\n",
       "3404                  4           0               0        2800000   \n",
       "781                   3           0               1        9900000   \n",
       "3002                  4           1               1        3500000   \n",
       "4047                  3           0               0        6400000   \n",
       "3391                  2           1               1        3300000   \n",
       "\n",
       "       loan_amount   loan_term   cibil_score   residential_assets_value  \\\n",
       "3404       8300000          14           381                    3200000   \n",
       "781       20400000           4           865                   26300000   \n",
       "3002      10700000           8           883                     200000   \n",
       "4047      23000000           8           520                   12100000   \n",
       "3391       6700000           8           845                    1300000   \n",
       "\n",
       "       commercial_assets_value   luxury_assets_value   bank_asset_value  \n",
       "3404                   1100000               9100000            1500000  \n",
       "781                    3600000              36500000           12800000  \n",
       "3002                   2300000               8400000            2000000  \n",
       "4047                  11400000              16000000            3800000  \n",
       "3391                   4600000              12300000            3200000  "
      ]
     },
     "execution_count": 22,
     "metadata": {},
     "output_type": "execute_result"
    }
   ],
   "source": [
    "X_train.head()"
   ]
  },
  {
   "cell_type": "code",
   "execution_count": 23,
   "id": "42b2211e",
   "metadata": {},
   "outputs": [
    {
     "data": {
      "text/plain": [
       "Index([' no_of_dependents', ' education', ' self_employed', ' income_annum',\n",
       "       ' loan_amount', ' loan_term', ' cibil_score',\n",
       "       ' residential_assets_value', ' commercial_assets_value',\n",
       "       ' luxury_assets_value', ' bank_asset_value', ' loan_status'],\n",
       "      dtype='object')"
      ]
     },
     "execution_count": 23,
     "metadata": {},
     "output_type": "execute_result"
    }
   ],
   "source": [
    "loan_df.columns"
   ]
  },
  {
   "cell_type": "code",
   "execution_count": 24,
   "id": "655d6d8b",
   "metadata": {},
   "outputs": [
    {
     "data": {
      "text/html": [
       "<div>\n",
       "<style scoped>\n",
       "    .dataframe tbody tr th:only-of-type {\n",
       "        vertical-align: middle;\n",
       "    }\n",
       "\n",
       "    .dataframe tbody tr th {\n",
       "        vertical-align: top;\n",
       "    }\n",
       "\n",
       "    .dataframe thead th {\n",
       "        text-align: right;\n",
       "    }\n",
       "</style>\n",
       "<table border=\"1\" class=\"dataframe\">\n",
       "  <thead>\n",
       "    <tr style=\"text-align: right;\">\n",
       "      <th></th>\n",
       "      <th>loan_status</th>\n",
       "    </tr>\n",
       "  </thead>\n",
       "  <tbody>\n",
       "    <tr>\n",
       "      <th>3404</th>\n",
       "      <td>0</td>\n",
       "    </tr>\n",
       "    <tr>\n",
       "      <th>781</th>\n",
       "      <td>1</td>\n",
       "    </tr>\n",
       "    <tr>\n",
       "      <th>3002</th>\n",
       "      <td>1</td>\n",
       "    </tr>\n",
       "    <tr>\n",
       "      <th>4047</th>\n",
       "      <td>0</td>\n",
       "    </tr>\n",
       "    <tr>\n",
       "      <th>3391</th>\n",
       "      <td>1</td>\n",
       "    </tr>\n",
       "  </tbody>\n",
       "</table>\n",
       "</div>"
      ],
      "text/plain": [
       "       loan_status\n",
       "3404             0\n",
       "781              1\n",
       "3002             1\n",
       "4047             0\n",
       "3391             1"
      ]
     },
     "execution_count": 24,
     "metadata": {},
     "output_type": "execute_result"
    }
   ],
   "source": [
    "y_train.head()"
   ]
  },
  {
   "cell_type": "code",
   "execution_count": 25,
   "id": "b903f3e8",
   "metadata": {},
   "outputs": [],
   "source": [
    "from sklearn.linear_model import LogisticRegression"
   ]
  },
  {
   "cell_type": "code",
   "execution_count": 26,
   "id": "05a7d51d",
   "metadata": {},
   "outputs": [
    {
     "name": "stderr",
     "output_type": "stream",
     "text": [
      "/Users/aritrachakraborty2003/anaconda3/lib/python3.11/site-packages/sklearn/utils/validation.py:1184: DataConversionWarning: A column-vector y was passed when a 1d array was expected. Please change the shape of y to (n_samples, ), for example using ravel().\n",
      "  y = column_or_1d(y, warn=True)\n"
     ]
    },
    {
     "data": {
      "text/html": [
       "<style>#sk-container-id-1 {color: black;}#sk-container-id-1 pre{padding: 0;}#sk-container-id-1 div.sk-toggleable {background-color: white;}#sk-container-id-1 label.sk-toggleable__label {cursor: pointer;display: block;width: 100%;margin-bottom: 0;padding: 0.3em;box-sizing: border-box;text-align: center;}#sk-container-id-1 label.sk-toggleable__label-arrow:before {content: \"▸\";float: left;margin-right: 0.25em;color: #696969;}#sk-container-id-1 label.sk-toggleable__label-arrow:hover:before {color: black;}#sk-container-id-1 div.sk-estimator:hover label.sk-toggleable__label-arrow:before {color: black;}#sk-container-id-1 div.sk-toggleable__content {max-height: 0;max-width: 0;overflow: hidden;text-align: left;background-color: #f0f8ff;}#sk-container-id-1 div.sk-toggleable__content pre {margin: 0.2em;color: black;border-radius: 0.25em;background-color: #f0f8ff;}#sk-container-id-1 input.sk-toggleable__control:checked~div.sk-toggleable__content {max-height: 200px;max-width: 100%;overflow: auto;}#sk-container-id-1 input.sk-toggleable__control:checked~label.sk-toggleable__label-arrow:before {content: \"▾\";}#sk-container-id-1 div.sk-estimator input.sk-toggleable__control:checked~label.sk-toggleable__label {background-color: #d4ebff;}#sk-container-id-1 div.sk-label input.sk-toggleable__control:checked~label.sk-toggleable__label {background-color: #d4ebff;}#sk-container-id-1 input.sk-hidden--visually {border: 0;clip: rect(1px 1px 1px 1px);clip: rect(1px, 1px, 1px, 1px);height: 1px;margin: -1px;overflow: hidden;padding: 0;position: absolute;width: 1px;}#sk-container-id-1 div.sk-estimator {font-family: monospace;background-color: #f0f8ff;border: 1px dotted black;border-radius: 0.25em;box-sizing: border-box;margin-bottom: 0.5em;}#sk-container-id-1 div.sk-estimator:hover {background-color: #d4ebff;}#sk-container-id-1 div.sk-parallel-item::after {content: \"\";width: 100%;border-bottom: 1px solid gray;flex-grow: 1;}#sk-container-id-1 div.sk-label:hover label.sk-toggleable__label {background-color: #d4ebff;}#sk-container-id-1 div.sk-serial::before {content: \"\";position: absolute;border-left: 1px solid gray;box-sizing: border-box;top: 0;bottom: 0;left: 50%;z-index: 0;}#sk-container-id-1 div.sk-serial {display: flex;flex-direction: column;align-items: center;background-color: white;padding-right: 0.2em;padding-left: 0.2em;position: relative;}#sk-container-id-1 div.sk-item {position: relative;z-index: 1;}#sk-container-id-1 div.sk-parallel {display: flex;align-items: stretch;justify-content: center;background-color: white;position: relative;}#sk-container-id-1 div.sk-item::before, #sk-container-id-1 div.sk-parallel-item::before {content: \"\";position: absolute;border-left: 1px solid gray;box-sizing: border-box;top: 0;bottom: 0;left: 50%;z-index: -1;}#sk-container-id-1 div.sk-parallel-item {display: flex;flex-direction: column;z-index: 1;position: relative;background-color: white;}#sk-container-id-1 div.sk-parallel-item:first-child::after {align-self: flex-end;width: 50%;}#sk-container-id-1 div.sk-parallel-item:last-child::after {align-self: flex-start;width: 50%;}#sk-container-id-1 div.sk-parallel-item:only-child::after {width: 0;}#sk-container-id-1 div.sk-dashed-wrapped {border: 1px dashed gray;margin: 0 0.4em 0.5em 0.4em;box-sizing: border-box;padding-bottom: 0.4em;background-color: white;}#sk-container-id-1 div.sk-label label {font-family: monospace;font-weight: bold;display: inline-block;line-height: 1.2em;}#sk-container-id-1 div.sk-label-container {text-align: center;}#sk-container-id-1 div.sk-container {/* jupyter's `normalize.less` sets `[hidden] { display: none; }` but bootstrap.min.css set `[hidden] { display: none !important; }` so we also need the `!important` here to be able to override the default hidden behavior on the sphinx rendered scikit-learn.org. See: https://github.com/scikit-learn/scikit-learn/issues/21755 */display: inline-block !important;position: relative;}#sk-container-id-1 div.sk-text-repr-fallback {display: none;}</style><div id=\"sk-container-id-1\" class=\"sk-top-container\"><div class=\"sk-text-repr-fallback\"><pre>LogisticRegression()</pre><b>In a Jupyter environment, please rerun this cell to show the HTML representation or trust the notebook. <br />On GitHub, the HTML representation is unable to render, please try loading this page with nbviewer.org.</b></div><div class=\"sk-container\" hidden><div class=\"sk-item\"><div class=\"sk-estimator sk-toggleable\"><input class=\"sk-toggleable__control sk-hidden--visually\" id=\"sk-estimator-id-1\" type=\"checkbox\" checked><label for=\"sk-estimator-id-1\" class=\"sk-toggleable__label sk-toggleable__label-arrow\">LogisticRegression</label><div class=\"sk-toggleable__content\"><pre>LogisticRegression()</pre></div></div></div></div></div>"
      ],
      "text/plain": [
       "LogisticRegression()"
      ]
     },
     "execution_count": 26,
     "metadata": {},
     "output_type": "execute_result"
    }
   ],
   "source": [
    "model_lr=LogisticRegression()\n",
    "model_lr.fit(X_train,y_train)"
   ]
  },
  {
   "cell_type": "markdown",
   "id": "b9380752",
   "metadata": {},
   "source": [
    "model.score(X_train,y_train)"
   ]
  },
  {
   "cell_type": "code",
   "execution_count": 27,
   "id": "8202c58b",
   "metadata": {},
   "outputs": [
    {
     "data": {
      "text/plain": [
       "0.6154618473895582"
      ]
     },
     "execution_count": 27,
     "metadata": {},
     "output_type": "execute_result"
    }
   ],
   "source": [
    "model_lr.score(X_train,y_train)"
   ]
  },
  {
   "cell_type": "markdown",
   "id": "4b69d132",
   "metadata": {},
   "source": [
    "# Correlation Heatmap"
   ]
  },
  {
   "cell_type": "code",
   "execution_count": 28,
   "id": "ca45cddb",
   "metadata": {},
   "outputs": [
    {
     "data": {
      "text/plain": [
       "<Axes: >"
      ]
     },
     "execution_count": 28,
     "metadata": {},
     "output_type": "execute_result"
    },
    {
     "data": {
      "image/png": "[encoded data removed]",
      "text/plain": [
       "<Figure size 1300x800 with 2 Axes>"
      ]
     },
     "metadata": {},
     "output_type": "display_data"
    }
   ],
   "source": [
    "plt.figure(figsize=(13,8))\n",
    "sns.heatmap(data=loan_df.corr(),annot=True)"
   ]
  },
  {
   "cell_type": "markdown",
   "id": "43791d19",
   "metadata": {},
   "source": [
    "# Random Forest Classifier"
   ]
  },
  {
   "cell_type": "code",
   "execution_count": 29,
   "id": "39c94b3b",
   "metadata": {},
   "outputs": [],
   "source": [
    "from sklearn.ensemble import RandomForestClassifier"
   ]
  },
  {
   "cell_type": "code",
   "execution_count": 30,
   "id": "12ef23f1",
   "metadata": {},
   "outputs": [
    {
     "name": "stderr",
     "output_type": "stream",
     "text": [
      "/Users/aritrachakraborty2003/anaconda3/lib/python3.11/site-packages/sklearn/base.py:1151: DataConversionWarning: A column-vector y was passed when a 1d array was expected. Please change the shape of y to (n_samples,), for example using ravel().\n",
      "  return fit_method(estimator, *args, **kwargs)\n"
     ]
    },
    {
     "data": {
      "text/html": [
       "<style>#sk-container-id-2 {color: black;}#sk-container-id-2 pre{padding: 0;}#sk-container-id-2 div.sk-toggleable {background-color: white;}#sk-container-id-2 label.sk-toggleable__label {cursor: pointer;display: block;width: 100%;margin-bottom: 0;padding: 0.3em;box-sizing: border-box;text-align: center;}#sk-container-id-2 label.sk-toggleable__label-arrow:before {content: \"▸\";float: left;margin-right: 0.25em;color: #696969;}#sk-container-id-2 label.sk-toggleable__label-arrow:hover:before {color: black;}#sk-container-id-2 div.sk-estimator:hover label.sk-toggleable__label-arrow:before {color: black;}#sk-container-id-2 div.sk-toggleable__content {max-height: 0;max-width: 0;overflow: hidden;text-align: left;background-color: #f0f8ff;}#sk-container-id-2 div.sk-toggleable__content pre {margin: 0.2em;color: black;border-radius: 0.25em;background-color: #f0f8ff;}#sk-container-id-2 input.sk-toggleable__control:checked~div.sk-toggleable__content {max-height: 200px;max-width: 100%;overflow: auto;}#sk-container-id-2 input.sk-toggleable__control:checked~label.sk-toggleable__label-arrow:before {content: \"▾\";}#sk-container-id-2 div.sk-estimator input.sk-toggleable__control:checked~label.sk-toggleable__label {background-color: #d4ebff;}#sk-container-id-2 div.sk-label input.sk-toggleable__control:checked~label.sk-toggleable__label {background-color: #d4ebff;}#sk-container-id-2 input.sk-hidden--visually {border: 0;clip: rect(1px 1px 1px 1px);clip: rect(1px, 1px, 1px, 1px);height: 1px;margin: -1px;overflow: hidden;padding: 0;position: absolute;width: 1px;}#sk-container-id-2 div.sk-estimator {font-family: monospace;background-color: #f0f8ff;border: 1px dotted black;border-radius: 0.25em;box-sizing: border-box;margin-bottom: 0.5em;}#sk-container-id-2 div.sk-estimator:hover {background-color: #d4ebff;}#sk-container-id-2 div.sk-parallel-item::after {content: \"\";width: 100%;border-bottom: 1px solid gray;flex-grow: 1;}#sk-container-id-2 div.sk-label:hover label.sk-toggleable__label {background-color: #d4ebff;}#sk-container-id-2 div.sk-serial::before {content: \"\";position: absolute;border-left: 1px solid gray;box-sizing: border-box;top: 0;bottom: 0;left: 50%;z-index: 0;}#sk-container-id-2 div.sk-serial {display: flex;flex-direction: column;align-items: center;background-color: white;padding-right: 0.2em;padding-left: 0.2em;position: relative;}#sk-container-id-2 div.sk-item {position: relative;z-index: 1;}#sk-container-id-2 div.sk-parallel {display: flex;align-items: stretch;justify-content: center;background-color: white;position: relative;}#sk-container-id-2 div.sk-item::before, #sk-container-id-2 div.sk-parallel-item::before {content: \"\";position: absolute;border-left: 1px solid gray;box-sizing: border-box;top: 0;bottom: 0;left: 50%;z-index: -1;}#sk-container-id-2 div.sk-parallel-item {display: flex;flex-direction: column;z-index: 1;position: relative;background-color: white;}#sk-container-id-2 div.sk-parallel-item:first-child::after {align-self: flex-end;width: 50%;}#sk-container-id-2 div.sk-parallel-item:last-child::after {align-self: flex-start;width: 50%;}#sk-container-id-2 div.sk-parallel-item:only-child::after {width: 0;}#sk-container-id-2 div.sk-dashed-wrapped {border: 1px dashed gray;margin: 0 0.4em 0.5em 0.4em;box-sizing: border-box;padding-bottom: 0.4em;background-color: white;}#sk-container-id-2 div.sk-label label {font-family: monospace;font-weight: bold;display: inline-block;line-height: 1.2em;}#sk-container-id-2 div.sk-label-container {text-align: center;}#sk-container-id-2 div.sk-container {/* jupyter's `normalize.less` sets `[hidden] { display: none; }` but bootstrap.min.css set `[hidden] { display: none !important; }` so we also need the `!important` here to be able to override the default hidden behavior on the sphinx rendered scikit-learn.org. See: https://github.com/scikit-learn/scikit-learn/issues/21755 */display: inline-block !important;position: relative;}#sk-container-id-2 div.sk-text-repr-fallback {display: none;}</style><div id=\"sk-container-id-2\" class=\"sk-top-container\"><div class=\"sk-text-repr-fallback\"><pre>RandomForestClassifier()</pre><b>In a Jupyter environment, please rerun this cell to show the HTML representation or trust the notebook. <br />On GitHub, the HTML representation is unable to render, please try loading this page with nbviewer.org.</b></div><div class=\"sk-container\" hidden><div class=\"sk-item\"><div class=\"sk-estimator sk-toggleable\"><input class=\"sk-toggleable__control sk-hidden--visually\" id=\"sk-estimator-id-2\" type=\"checkbox\" checked><label for=\"sk-estimator-id-2\" class=\"sk-toggleable__label sk-toggleable__label-arrow\">RandomForestClassifier</label><div class=\"sk-toggleable__content\"><pre>RandomForestClassifier()</pre></div></div></div></div></div>"
      ],
      "text/plain": [
       "RandomForestClassifier()"
      ]
     },
     "execution_count": 30,
     "metadata": {},
     "output_type": "execute_result"
    }
   ],
   "source": [
    "clf = RandomForestClassifier(n_estimators = 100)\n",
    "clf.fit(X_train, y_train)"
   ]
  },
  {
   "cell_type": "code",
   "execution_count": 31,
   "id": "b7a9c575",
   "metadata": {},
   "outputs": [
    {
     "data": {
      "text/plain": [
       "97.73614363778297"
      ]
     },
     "execution_count": 31,
     "metadata": {},
     "output_type": "execute_result"
    }
   ],
   "source": [
    "clf.score(X_test,y_test)*100"
   ]
  },
  {
   "cell_type": "code",
   "execution_count": 32,
   "id": "7dc8dc24",
   "metadata": {},
   "outputs": [],
   "source": [
    "from joblib import dump"
   ]
  },
  {
   "cell_type": "code",
   "execution_count": 33,
   "id": "bf88da3b",
   "metadata": {},
   "outputs": [
    {
     "data": {
      "text/plain": [
       "['./../savemodels/loanApproval.joblib']"
      ]
     },
     "execution_count": 33,
     "metadata": {},
     "output_type": "execute_result"
    }
   ],
   "source": [
    "dump(clf,'./../savemodels/loanApproval.joblib')"
   ]
  },
  {
   "cell_type": "code",
   "execution_count": 36,
   "id": "c7f718f2",
   "metadata": {},
   "outputs": [],
   "source": [
    "y_pred=clf.predict(X_test)"
   ]
  },
  {
   "cell_type": "code",
   "execution_count": 37,
   "id": "a3b5fd1d",
   "metadata": {},
   "outputs": [
    {
     "name": "stdout",
     "output_type": "stream",
     "text": [
      "[[452  19]\n",
      " [ 10 800]]\n"
     ]
    }
   ],
   "source": [
    "import matplotlib.pyplot as plt\n",
    "from sklearn.metrics import confusion_matrix\n",
    "\n",
    "# confusion_matrix funnction a matrix containing the summary of predictions\n",
    "print(confusion_matrix(y_test,y_pred))\n",
    "\n",
    "# plot_confusion_matrix function is used to visualize the confusion matrix\n"
   ]
  },
  {
   "cell_type": "code",
   "execution_count": null,
   "id": "ab73d59f",
   "metadata": {},
   "outputs": [],
   "source": []
  }
 ],
 "metadata": {
  "kernelspec": {
   "display_name": "Python 3 (ipykernel)",
   "language": "python",
   "name": "python3"
  },
  "language_info": {
   "codemirror_mode": {
    "name": "ipython",
    "version": 3
   },
   "file_extension": ".py",
   "mimetype": "text/x-python",
   "name": "python",
   "nbconvert_exporter": "python",
   "pygments_lexer": "ipython3",
   "version": "3.12.0"
  }
 },
 "nbformat": 4,
 "nbformat_minor": 5
}
